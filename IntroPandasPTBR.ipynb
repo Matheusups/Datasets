{
  "nbformat": 4,
  "nbformat_minor": 0,
  "metadata": {
    "colab": {
      "name": "IntroPandasPTBR.ipynb",
      "provenance": [],
      "authorship_tag": "ABX9TyOlPXGhXjuXxU1kRkVWhH3n",
      "include_colab_link": true
    },
    "kernelspec": {
      "name": "python3",
      "display_name": "Python 3"
    },
    "language_info": {
      "name": "python"
    }
  },
  "cells": [
    {
      "cell_type": "markdown",
      "metadata": {
        "id": "view-in-github",
        "colab_type": "text"
      },
      "source": [
        "<a href=\"https://colab.research.google.com/github/Matheusups/Datasets/blob/main/IntroPandasPTBR.ipynb\" target=\"_parent\"><img src=\"https://colab.research.google.com/assets/colab-badge.svg\" alt=\"Open In Colab\"/></a>"
      ]
    },
    {
      "cell_type": "markdown",
      "metadata": {
        "id": "_XhGLvF2XypV"
      },
      "source": [
        "# **Introdução**\n",
        "Essa 'documentação' eu criei com base nos cursos e conhecimento sobre a biblioteca para que eu pudesse consultar sempre que tivesse dúvida. \n",
        "\n"
      ]
    },
    {
      "cell_type": "code",
      "metadata": {
        "id": "vnTgZUS9XsSt"
      },
      "source": [
        "import pandas as pd \n",
        "#Sempre importar a biblioteca antes de usar códigos nativos"
      ],
      "execution_count": null,
      "outputs": []
    },
    {
      "cell_type": "markdown",
      "metadata": {
        "id": "tM4GD3RhZEJ0"
      },
      "source": [
        "### **Criando estruturas de dados**\n",
        "No pandas existem 2 estruturas de dados principais\n",
        "\n",
        "*   **DataFrame**\n",
        "\n",
        "  Corresponde a uma tabela, Linha x Coluna  \n",
        "*   **Series**\n",
        "\n",
        "  Corresponde a uma lista de dados, unidimensionais."
      ]
    },
    {
      "cell_type": "code",
      "metadata": {
        "colab": {
          "base_uri": "https://localhost:8080/",
          "height": 112
        },
        "id": "FZxHUSmQbB29",
        "outputId": "67ca2032-f1f7-43cb-ea1f-6301e8c8b71b"
      },
      "source": [
        "#Criar DataFrame\n",
        "pd.DataFrame({\"Ensino\":[\"Superior\",\"Médio\"], \"Idade\":[31,17]}, index=[\"José\",\"Matheus\"])\n"
      ],
      "execution_count": null,
      "outputs": [
        {
          "output_type": "execute_result",
          "data": {
            "text/html": [
              "<div>\n",
              "<style scoped>\n",
              "    .dataframe tbody tr th:only-of-type {\n",
              "        vertical-align: middle;\n",
              "    }\n",
              "\n",
              "    .dataframe tbody tr th {\n",
              "        vertical-align: top;\n",
              "    }\n",
              "\n",
              "    .dataframe thead th {\n",
              "        text-align: right;\n",
              "    }\n",
              "</style>\n",
              "<table border=\"1\" class=\"dataframe\">\n",
              "  <thead>\n",
              "    <tr style=\"text-align: right;\">\n",
              "      <th></th>\n",
              "      <th>Ensino</th>\n",
              "      <th>Idade</th>\n",
              "    </tr>\n",
              "  </thead>\n",
              "  <tbody>\n",
              "    <tr>\n",
              "      <th>José</th>\n",
              "      <td>Superior</td>\n",
              "      <td>31</td>\n",
              "    </tr>\n",
              "    <tr>\n",
              "      <th>Matheus</th>\n",
              "      <td>Médio</td>\n",
              "      <td>17</td>\n",
              "    </tr>\n",
              "  </tbody>\n",
              "</table>\n",
              "</div>"
            ],
            "text/plain": [
              "           Ensino  Idade\n",
              "José     Superior     31\n",
              "Matheus     Médio     17"
            ]
          },
          "metadata": {},
          "execution_count": 6
        }
      ]
    },
    {
      "cell_type": "code",
      "metadata": {
        "colab": {
          "base_uri": "https://localhost:8080/"
        },
        "id": "guX1JSM2dcZs",
        "outputId": "22590a18-d32a-4a47-90be-691d08749466"
      },
      "source": [
        "#Criar uma Series de vendas por Loja\n",
        "pd.Series([1500,1258,1620,1685,1440], index=['Loja 1','Loja 2', 'Loja 3', 'Loja 4', 'Loja 5'], name='FaturamentoLoja')"
      ],
      "execution_count": null,
      "outputs": [
        {
          "output_type": "execute_result",
          "data": {
            "text/plain": [
              "Loja 1    1500\n",
              "Loja 2    1258\n",
              "Loja 3    1620\n",
              "Loja 4    1685\n",
              "Loja 5    1440\n",
              "Name: FaturamentoLoja, dtype: int64"
            ]
          },
          "metadata": {},
          "execution_count": 7
        }
      ]
    },
    {
      "cell_type": "markdown",
      "metadata": {
        "id": "x7GYsamhf0NK"
      },
      "source": [
        "###### **O Dataframe é basicamente um conjunto de Series coladas. Vamos testar algumas funções de exploração dos tipos de dados, quantidade de linhas/colunas e funções essenciais para a fase de interpretação do Dataset.**\n",
        "\n",
        "Usarei o seguinte dataset: https://www.kaggle.com/shivamb/disney-movies-and-tv-shows "
      ]
    },
    {
      "cell_type": "code",
      "metadata": {
        "colab": {
          "base_uri": "https://localhost:8080/",
          "height": 605
        },
        "id": "9V7lHxeag0rc",
        "outputId": "4a490022-8bc0-47f0-fdf3-d6cd96bf67d2"
      },
      "source": [
        "#Importando o Dataset, copie o caminho e use no Código\n",
        "\n",
        "FilmesDisney = pd.read_csv(\"/content/disney_plus_titles.csv\", sep=',', index_col=0) #Atribui o Dataset a Variavel FilmesDisney\n",
        "\n",
        "FilmesDisney.head() #Exibe os 5 primeiros resultados do dataset"
      ],
      "execution_count": null,
      "outputs": [
        {
          "output_type": "execute_result",
          "data": {
            "text/html": [
              "<div>\n",
              "<style scoped>\n",
              "    .dataframe tbody tr th:only-of-type {\n",
              "        vertical-align: middle;\n",
              "    }\n",
              "\n",
              "    .dataframe tbody tr th {\n",
              "        vertical-align: top;\n",
              "    }\n",
              "\n",
              "    .dataframe thead th {\n",
              "        text-align: right;\n",
              "    }\n",
              "</style>\n",
              "<table border=\"1\" class=\"dataframe\">\n",
              "  <thead>\n",
              "    <tr style=\"text-align: right;\">\n",
              "      <th></th>\n",
              "      <th>type</th>\n",
              "      <th>title</th>\n",
              "      <th>director</th>\n",
              "      <th>cast</th>\n",
              "      <th>country</th>\n",
              "      <th>date_added</th>\n",
              "      <th>release_year</th>\n",
              "      <th>rating</th>\n",
              "      <th>duration</th>\n",
              "      <th>listed_in</th>\n",
              "      <th>description</th>\n",
              "    </tr>\n",
              "    <tr>\n",
              "      <th>show_id</th>\n",
              "      <th></th>\n",
              "      <th></th>\n",
              "      <th></th>\n",
              "      <th></th>\n",
              "      <th></th>\n",
              "      <th></th>\n",
              "      <th></th>\n",
              "      <th></th>\n",
              "      <th></th>\n",
              "      <th></th>\n",
              "      <th></th>\n",
              "    </tr>\n",
              "  </thead>\n",
              "  <tbody>\n",
              "    <tr>\n",
              "      <th>s1</th>\n",
              "      <td>Movie</td>\n",
              "      <td>A Spark Story</td>\n",
              "      <td>Jason Sterman, Leanne Dare</td>\n",
              "      <td>Apthon Corbin, Louis Gonzales</td>\n",
              "      <td>NaN</td>\n",
              "      <td>September 24, 2021</td>\n",
              "      <td>2021</td>\n",
              "      <td>TV-PG</td>\n",
              "      <td>88 min</td>\n",
              "      <td>Documentary</td>\n",
              "      <td>Two Pixar filmmakers strive to bring their uni...</td>\n",
              "    </tr>\n",
              "    <tr>\n",
              "      <th>s2</th>\n",
              "      <td>Movie</td>\n",
              "      <td>Spooky Buddies</td>\n",
              "      <td>Robert Vince</td>\n",
              "      <td>Tucker Albrizzi, Diedrich Bader, Ameko Eks Mas...</td>\n",
              "      <td>United States, Canada</td>\n",
              "      <td>September 24, 2021</td>\n",
              "      <td>2011</td>\n",
              "      <td>G</td>\n",
              "      <td>93 min</td>\n",
              "      <td>Comedy, Fantasy, Kids</td>\n",
              "      <td>The puppies go on a spooky adventure through a...</td>\n",
              "    </tr>\n",
              "    <tr>\n",
              "      <th>s3</th>\n",
              "      <td>Movie</td>\n",
              "      <td>The Fault in Our Stars</td>\n",
              "      <td>Josh Boone</td>\n",
              "      <td>Shailene Woodley, Ansel Elgort, Laura Dern, Sa...</td>\n",
              "      <td>United States</td>\n",
              "      <td>September 24, 2021</td>\n",
              "      <td>2014</td>\n",
              "      <td>PG-13</td>\n",
              "      <td>127 min</td>\n",
              "      <td>Coming of Age, Drama, Romance</td>\n",
              "      <td>Hazel and Gus share a love that sweeps them on...</td>\n",
              "    </tr>\n",
              "    <tr>\n",
              "      <th>s4</th>\n",
              "      <td>TV Show</td>\n",
              "      <td>Dog: Impossible</td>\n",
              "      <td>NaN</td>\n",
              "      <td>Matt Beisner</td>\n",
              "      <td>United States</td>\n",
              "      <td>September 22, 2021</td>\n",
              "      <td>2019</td>\n",
              "      <td>TV-PG</td>\n",
              "      <td>2 Seasons</td>\n",
              "      <td>Animals &amp; Nature, Docuseries, Family</td>\n",
              "      <td>Matt Beisner uses unique approaches to modifyi...</td>\n",
              "    </tr>\n",
              "    <tr>\n",
              "      <th>s5</th>\n",
              "      <td>TV Show</td>\n",
              "      <td>Spidey And His Amazing Friends</td>\n",
              "      <td>NaN</td>\n",
              "      <td>Benjamin Valic, Lily Sanfelippo, Jakari Fraser...</td>\n",
              "      <td>United States</td>\n",
              "      <td>September 22, 2021</td>\n",
              "      <td>2021</td>\n",
              "      <td>TV-Y</td>\n",
              "      <td>1 Season</td>\n",
              "      <td>Action-Adventure, Animation, Kids</td>\n",
              "      <td>Spidey teams up with pals to become The Spidey...</td>\n",
              "    </tr>\n",
              "  </tbody>\n",
              "</table>\n",
              "</div>"
            ],
            "text/plain": [
              "            type  ...                                        description\n",
              "show_id           ...                                                   \n",
              "s1         Movie  ...  Two Pixar filmmakers strive to bring their uni...\n",
              "s2         Movie  ...  The puppies go on a spooky adventure through a...\n",
              "s3         Movie  ...  Hazel and Gus share a love that sweeps them on...\n",
              "s4       TV Show  ...  Matt Beisner uses unique approaches to modifyi...\n",
              "s5       TV Show  ...  Spidey teams up with pals to become The Spidey...\n",
              "\n",
              "[5 rows x 11 columns]"
            ]
          },
          "metadata": {},
          "execution_count": 22
        }
      ]
    },
    {
      "cell_type": "code",
      "metadata": {
        "colab": {
          "base_uri": "https://localhost:8080/"
        },
        "id": "jPY9Zq0NkUvT",
        "outputId": "4186df49-0d14-4aae-8df8-ce60f38bfeb3"
      },
      "source": [
        "#Explana dados sobre a estrutura dos dados, n° linhas e n° de colunas\n",
        "FilmesDisney.shape"
      ],
      "execution_count": null,
      "outputs": [
        {
          "output_type": "execute_result",
          "data": {
            "text/plain": [
              "(1368, 11)"
            ]
          },
          "metadata": {},
          "execution_count": 19
        }
      ]
    },
    {
      "cell_type": "code",
      "metadata": {
        "colab": {
          "base_uri": "https://localhost:8080/"
        },
        "id": "XHvqfkW7klqP",
        "outputId": "173999e5-1250-40e4-bfbb-846869a94ea1"
      },
      "source": [
        "#Nome das colunas\n",
        "FilmesDisney.columns"
      ],
      "execution_count": null,
      "outputs": [
        {
          "output_type": "execute_result",
          "data": {
            "text/plain": [
              "Index(['show_id', 'type', 'title', 'director', 'cast', 'country', 'date_added',\n",
              "       'release_year', 'rating', 'duration', 'listed_in', 'description'],\n",
              "      dtype='object')"
            ]
          },
          "metadata": {},
          "execution_count": 14
        }
      ]
    },
    {
      "cell_type": "code",
      "metadata": {
        "colab": {
          "base_uri": "https://localhost:8080/"
        },
        "id": "WIL42Esdljb_",
        "outputId": "d2a5dfe3-a1f7-41ae-8c8c-8a8db04a8c82"
      },
      "source": [
        "#Consulta filtrada > objeto.coluna < Retorna um Series \n",
        "FilmesDisney.country.value_counts() #Função value_counts, conta a quantidade de registros no mesmo pais ou paises(nesse caso)."
      ],
      "execution_count": null,
      "outputs": [
        {
          "output_type": "execute_result",
          "data": {
            "text/plain": [
              "United States                                                976\n",
              "United States, Canada                                         28\n",
              "United Kingdom                                                23\n",
              "United States, United Kingdom                                 19\n",
              "Canada, United States                                         17\n",
              "                                                            ... \n",
              "Canada, United States, United Kingdom, France, Luxembourg      1\n",
              "United Kingdom, United States, Ireland                         1\n",
              "Tanzania, United States                                        1\n",
              "Ireland, United States                                         1\n",
              "United States, Spain                                           1\n",
              "Name: country, Length: 87, dtype: int64"
            ]
          },
          "metadata": {},
          "execution_count": 20
        }
      ]
    },
    {
      "cell_type": "code",
      "metadata": {
        "colab": {
          "base_uri": "https://localhost:8080/",
          "height": 35
        },
        "id": "-oW8LbROmtgf",
        "outputId": "bb9fcb6f-58c1-4e4f-8ab9-1990230a8696"
      },
      "source": [
        "#Consulta por Indice(Index), retorna o registro da coluna 'Country' indexado pelo ID 's4'\n",
        "FilmesDisney['country']['s4']"
      ],
      "execution_count": null,
      "outputs": [
        {
          "output_type": "execute_result",
          "data": {
            "application/vnd.google.colaboratory.intrinsic+json": {
              "type": "string"
            },
            "text/plain": [
              "'United States'"
            ]
          },
          "metadata": {},
          "execution_count": 25
        }
      ]
    },
    {
      "cell_type": "code",
      "metadata": {
        "colab": {
          "base_uri": "https://localhost:8080/",
          "height": 455
        },
        "id": "Li1znZBgowCd",
        "outputId": "e1e280b5-8ca3-4610-c510-b8c0ee3a2ff0"
      },
      "source": [
        "#Função loc, filtrando registro, e atribui o filtro a outra variavel pra utilizar\n",
        "Disney1 = FilmesDisney.loc[:, ['country', 'title', 'type']]\n",
        "Disney1"
      ],
      "execution_count": null,
      "outputs": [
        {
          "output_type": "execute_result",
          "data": {
            "text/html": [
              "<div>\n",
              "<style scoped>\n",
              "    .dataframe tbody tr th:only-of-type {\n",
              "        vertical-align: middle;\n",
              "    }\n",
              "\n",
              "    .dataframe tbody tr th {\n",
              "        vertical-align: top;\n",
              "    }\n",
              "\n",
              "    .dataframe thead th {\n",
              "        text-align: right;\n",
              "    }\n",
              "</style>\n",
              "<table border=\"1\" class=\"dataframe\">\n",
              "  <thead>\n",
              "    <tr style=\"text-align: right;\">\n",
              "      <th></th>\n",
              "      <th>country</th>\n",
              "      <th>title</th>\n",
              "      <th>type</th>\n",
              "    </tr>\n",
              "    <tr>\n",
              "      <th>show_id</th>\n",
              "      <th></th>\n",
              "      <th></th>\n",
              "      <th></th>\n",
              "    </tr>\n",
              "  </thead>\n",
              "  <tbody>\n",
              "    <tr>\n",
              "      <th>s1</th>\n",
              "      <td>NaN</td>\n",
              "      <td>A Spark Story</td>\n",
              "      <td>Movie</td>\n",
              "    </tr>\n",
              "    <tr>\n",
              "      <th>s2</th>\n",
              "      <td>United States, Canada</td>\n",
              "      <td>Spooky Buddies</td>\n",
              "      <td>Movie</td>\n",
              "    </tr>\n",
              "    <tr>\n",
              "      <th>s3</th>\n",
              "      <td>United States</td>\n",
              "      <td>The Fault in Our Stars</td>\n",
              "      <td>Movie</td>\n",
              "    </tr>\n",
              "    <tr>\n",
              "      <th>s4</th>\n",
              "      <td>United States</td>\n",
              "      <td>Dog: Impossible</td>\n",
              "      <td>TV Show</td>\n",
              "    </tr>\n",
              "    <tr>\n",
              "      <th>s5</th>\n",
              "      <td>United States</td>\n",
              "      <td>Spidey And His Amazing Friends</td>\n",
              "      <td>TV Show</td>\n",
              "    </tr>\n",
              "    <tr>\n",
              "      <th>...</th>\n",
              "      <td>...</td>\n",
              "      <td>...</td>\n",
              "      <td>...</td>\n",
              "    </tr>\n",
              "    <tr>\n",
              "      <th>s1364</th>\n",
              "      <td>United States</td>\n",
              "      <td>The Sword in the Stone</td>\n",
              "      <td>Movie</td>\n",
              "    </tr>\n",
              "    <tr>\n",
              "      <th>s1365</th>\n",
              "      <td>United States</td>\n",
              "      <td>Those Calloways</td>\n",
              "      <td>Movie</td>\n",
              "    </tr>\n",
              "    <tr>\n",
              "      <th>s1366</th>\n",
              "      <td>United States</td>\n",
              "      <td>Disney Kirby Buckets</td>\n",
              "      <td>TV Show</td>\n",
              "    </tr>\n",
              "    <tr>\n",
              "      <th>s1367</th>\n",
              "      <td>Canada</td>\n",
              "      <td>Disney Mech-X4</td>\n",
              "      <td>TV Show</td>\n",
              "    </tr>\n",
              "    <tr>\n",
              "      <th>s1368</th>\n",
              "      <td>United States</td>\n",
              "      <td>Imagination Movers</td>\n",
              "      <td>TV Show</td>\n",
              "    </tr>\n",
              "  </tbody>\n",
              "</table>\n",
              "<p>1368 rows × 3 columns</p>\n",
              "</div>"
            ],
            "text/plain": [
              "                       country                           title     type\n",
              "show_id                                                                \n",
              "s1                         NaN                   A Spark Story    Movie\n",
              "s2       United States, Canada                  Spooky Buddies    Movie\n",
              "s3               United States          The Fault in Our Stars    Movie\n",
              "s4               United States                 Dog: Impossible  TV Show\n",
              "s5               United States  Spidey And His Amazing Friends  TV Show\n",
              "...                        ...                             ...      ...\n",
              "s1364            United States          The Sword in the Stone    Movie\n",
              "s1365            United States                 Those Calloways    Movie\n",
              "s1366            United States            Disney Kirby Buckets  TV Show\n",
              "s1367                   Canada                  Disney Mech-X4  TV Show\n",
              "s1368            United States              Imagination Movers  TV Show\n",
              "\n",
              "[1368 rows x 3 columns]"
            ]
          },
          "metadata": {},
          "execution_count": 30
        }
      ]
    },
    {
      "cell_type": "code",
      "metadata": {
        "colab": {
          "base_uri": "https://localhost:8080/",
          "height": 238
        },
        "id": "Z_xVcs_Wp6AD",
        "outputId": "bcb9035a-455b-447d-db0b-05a54dca8997"
      },
      "source": [
        "#Registros que possuem pais de origem só Canada\n",
        "Disney1.loc[Disney1.country == 'Canada']"
      ],
      "execution_count": null,
      "outputs": [
        {
          "output_type": "execute_result",
          "data": {
            "text/html": [
              "<div>\n",
              "<style scoped>\n",
              "    .dataframe tbody tr th:only-of-type {\n",
              "        vertical-align: middle;\n",
              "    }\n",
              "\n",
              "    .dataframe tbody tr th {\n",
              "        vertical-align: top;\n",
              "    }\n",
              "\n",
              "    .dataframe thead th {\n",
              "        text-align: right;\n",
              "    }\n",
              "</style>\n",
              "<table border=\"1\" class=\"dataframe\">\n",
              "  <thead>\n",
              "    <tr style=\"text-align: right;\">\n",
              "      <th></th>\n",
              "      <th>country</th>\n",
              "      <th>title</th>\n",
              "      <th>type</th>\n",
              "    </tr>\n",
              "    <tr>\n",
              "      <th>show_id</th>\n",
              "      <th></th>\n",
              "      <th></th>\n",
              "      <th></th>\n",
              "    </tr>\n",
              "  </thead>\n",
              "  <tbody>\n",
              "    <tr>\n",
              "      <th>s105</th>\n",
              "      <td>Canada</td>\n",
              "      <td>Dino Ranch</td>\n",
              "      <td>TV Show</td>\n",
              "    </tr>\n",
              "    <tr>\n",
              "      <th>s658</th>\n",
              "      <td>Canada</td>\n",
              "      <td>Atlantis Rising</td>\n",
              "      <td>Movie</td>\n",
              "    </tr>\n",
              "    <tr>\n",
              "      <th>s743</th>\n",
              "      <td>Canada</td>\n",
              "      <td>Disney Bad Hair Day</td>\n",
              "      <td>Movie</td>\n",
              "    </tr>\n",
              "    <tr>\n",
              "      <th>s1129</th>\n",
              "      <td>Canada</td>\n",
              "      <td>So Weird</td>\n",
              "      <td>TV Show</td>\n",
              "    </tr>\n",
              "    <tr>\n",
              "      <th>s1367</th>\n",
              "      <td>Canada</td>\n",
              "      <td>Disney Mech-X4</td>\n",
              "      <td>TV Show</td>\n",
              "    </tr>\n",
              "  </tbody>\n",
              "</table>\n",
              "</div>"
            ],
            "text/plain": [
              "        country                title     type\n",
              "show_id                                      \n",
              "s105     Canada           Dino Ranch  TV Show\n",
              "s658     Canada      Atlantis Rising    Movie\n",
              "s743     Canada  Disney Bad Hair Day    Movie\n",
              "s1129    Canada             So Weird  TV Show\n",
              "s1367    Canada       Disney Mech-X4  TV Show"
            ]
          },
          "metadata": {},
          "execution_count": 31
        }
      ]
    }
  ]
}