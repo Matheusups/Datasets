{
  "nbformat": 4,
  "nbformat_minor": 0,
  "metadata": {
    "colab": {
      "name": "NETFLIX.ipynb",
      "provenance": [],
      "authorship_tag": "ABX9TyMgSGeQrraA+bEP1ymwihzx",
      "include_colab_link": true
    },
    "kernelspec": {
      "name": "python3",
      "display_name": "Python 3"
    },
    "language_info": {
      "name": "python"
    }
  },
  "cells": [
    {
      "cell_type": "markdown",
      "metadata": {
        "id": "view-in-github",
        "colab_type": "text"
      },
      "source": [
        "<a href=\"https://colab.research.google.com/github/Matheusups/Datasets/blob/main/NETFLIX.ipynb\" target=\"_parent\"><img src=\"https://colab.research.google.com/assets/colab-badge.svg\" alt=\"Open In Colab\"/></a>"
      ]
    },
    {
      "cell_type": "markdown",
      "metadata": {
        "id": "mPU_B_JajpCb"
      },
      "source": [
        "**Limpeza dos Dados:**\n",
        "\n",
        "---\n",
        "* leitura do arquivo CSV\n",
        "* filtragem para titulo, episodios e classificação(1 a 10)\n",
        "* 'dropna' para limpar linhas que sejam relativas a filmes e tenham \n",
        "o n° de episodios = NaN. \n",
        "\n",
        "---\n",
        "\n",
        "Dados por: IMDb\n"
      ]
    },
    {
      "cell_type": "code",
      "metadata": {
        "colab": {
          "base_uri": "https://localhost:8080/",
          "height": 414
        },
        "id": "uH6d3IRj4A2C",
        "outputId": "2b62d941-63cf-46f8-b61c-048b173b257b"
      },
      "source": [
        "import pandas as pd\n",
        "import numpy as np\n",
        "import matplotlib.pyplot as plt\n",
        "\n",
        "catalogo = pd.read_csv(r'/content/netflix_list.csv')\n",
        "a = catalogo[['title','episodes','rating','isAdult','type']]\n",
        "a"
      ],
      "execution_count": 56,
      "outputs": [
        {
          "output_type": "execute_result",
          "data": {
            "text/html": [
              "<div>\n",
              "<style scoped>\n",
              "    .dataframe tbody tr th:only-of-type {\n",
              "        vertical-align: middle;\n",
              "    }\n",
              "\n",
              "    .dataframe tbody tr th {\n",
              "        vertical-align: top;\n",
              "    }\n",
              "\n",
              "    .dataframe thead th {\n",
              "        text-align: right;\n",
              "    }\n",
              "</style>\n",
              "<table border=\"1\" class=\"dataframe\">\n",
              "  <thead>\n",
              "    <tr style=\"text-align: right;\">\n",
              "      <th></th>\n",
              "      <th>title</th>\n",
              "      <th>episodes</th>\n",
              "      <th>rating</th>\n",
              "      <th>isAdult</th>\n",
              "      <th>type</th>\n",
              "    </tr>\n",
              "  </thead>\n",
              "  <tbody>\n",
              "    <tr>\n",
              "      <th>0</th>\n",
              "      <td>Lucifer</td>\n",
              "      <td>93.0</td>\n",
              "      <td>8.1</td>\n",
              "      <td>0</td>\n",
              "      <td>tvSeries</td>\n",
              "    </tr>\n",
              "    <tr>\n",
              "      <th>1</th>\n",
              "      <td>Army of the Dead</td>\n",
              "      <td>NaN</td>\n",
              "      <td>5.8</td>\n",
              "      <td>0</td>\n",
              "      <td>movie</td>\n",
              "    </tr>\n",
              "    <tr>\n",
              "      <th>2</th>\n",
              "      <td>The Kominsky Method</td>\n",
              "      <td>22.0</td>\n",
              "      <td>8.2</td>\n",
              "      <td>0</td>\n",
              "      <td>tvSeries</td>\n",
              "    </tr>\n",
              "    <tr>\n",
              "      <th>3</th>\n",
              "      <td>Friends</td>\n",
              "      <td>235.0</td>\n",
              "      <td>8.9</td>\n",
              "      <td>0</td>\n",
              "      <td>tvSeries</td>\n",
              "    </tr>\n",
              "    <tr>\n",
              "      <th>4</th>\n",
              "      <td>Ragnarok</td>\n",
              "      <td>12.0</td>\n",
              "      <td>7.5</td>\n",
              "      <td>0</td>\n",
              "      <td>tvSeries</td>\n",
              "    </tr>\n",
              "    <tr>\n",
              "      <th>...</th>\n",
              "      <td>...</td>\n",
              "      <td>...</td>\n",
              "      <td>...</td>\n",
              "      <td>...</td>\n",
              "      <td>...</td>\n",
              "    </tr>\n",
              "    <tr>\n",
              "      <th>7003</th>\n",
              "      <td>Merry Happy Whatever</td>\n",
              "      <td>NaN</td>\n",
              "      <td>6.1</td>\n",
              "      <td>0</td>\n",
              "      <td>tvEpisode</td>\n",
              "    </tr>\n",
              "    <tr>\n",
              "      <th>7004</th>\n",
              "      <td>The Morning Show</td>\n",
              "      <td>NaN</td>\n",
              "      <td>NaN</td>\n",
              "      <td>0</td>\n",
              "      <td>tvEpisode</td>\n",
              "    </tr>\n",
              "    <tr>\n",
              "      <th>7005</th>\n",
              "      <td>Losers</td>\n",
              "      <td>NaN</td>\n",
              "      <td>8.0</td>\n",
              "      <td>0</td>\n",
              "      <td>tvEpisode</td>\n",
              "    </tr>\n",
              "    <tr>\n",
              "      <th>7006</th>\n",
              "      <td>Firefly Lane</td>\n",
              "      <td>NaN</td>\n",
              "      <td>7.3</td>\n",
              "      <td>0</td>\n",
              "      <td>tvEpisode</td>\n",
              "    </tr>\n",
              "    <tr>\n",
              "      <th>7007</th>\n",
              "      <td>Medical Police</td>\n",
              "      <td>NaN</td>\n",
              "      <td>6.6</td>\n",
              "      <td>0</td>\n",
              "      <td>tvEpisode</td>\n",
              "    </tr>\n",
              "  </tbody>\n",
              "</table>\n",
              "<p>7008 rows × 5 columns</p>\n",
              "</div>"
            ],
            "text/plain": [
              "                      title  episodes  rating  isAdult       type\n",
              "0                   Lucifer      93.0     8.1        0   tvSeries\n",
              "1          Army of the Dead       NaN     5.8        0      movie\n",
              "2       The Kominsky Method      22.0     8.2        0   tvSeries\n",
              "3                   Friends     235.0     8.9        0   tvSeries\n",
              "4                  Ragnarok      12.0     7.5        0   tvSeries\n",
              "...                     ...       ...     ...      ...        ...\n",
              "7003   Merry Happy Whatever       NaN     6.1        0  tvEpisode\n",
              "7004       The Morning Show       NaN     NaN        0  tvEpisode\n",
              "7005                 Losers       NaN     8.0        0  tvEpisode\n",
              "7006           Firefly Lane       NaN     7.3        0  tvEpisode\n",
              "7007         Medical Police       NaN     6.6        0  tvEpisode\n",
              "\n",
              "[7008 rows x 5 columns]"
            ]
          },
          "metadata": {
            "tags": []
          },
          "execution_count": 56
        }
      ]
    },
    {
      "cell_type": "markdown",
      "metadata": {
        "id": "al5m3A2Glngn"
      },
      "source": [
        "A coluna \"isAdult\" segue a lógica de que:\n",
        " \n",
        " **1 = tem conteúdo sexual adulto e 0 = não possui conteúdo adulto**.\n",
        "\n",
        "Podemos concluir que, para o imdb, as séries e filmes da netflix não abordam seu \"conteúdo sexual\" como algo explicito e sim como educativo ou alívio comico.\n",
        "\n"
      ]
    },
    {
      "cell_type": "code",
      "metadata": {
        "colab": {
          "base_uri": "https://localhost:8080/"
        },
        "id": "c4a-g1B8cgC9",
        "outputId": "24ba3f64-99fb-4ef6-9cc6-23826bf55340"
      },
      "source": [
        "a.groupby(by='isAdult').size()"
      ],
      "execution_count": 57,
      "outputs": [
        {
          "output_type": "execute_result",
          "data": {
            "text/plain": [
              "isAdult\n",
              "0    7008\n",
              "dtype: int64"
            ]
          },
          "metadata": {
            "tags": []
          },
          "execution_count": 57
        }
      ]
    },
    {
      "cell_type": "code",
      "metadata": {
        "colab": {
          "base_uri": "https://localhost:8080/",
          "height": 414
        },
        "id": "qtnEb4SLkk95",
        "outputId": "c33d906e-10d5-46be-ee6e-96f284f6ff01"
      },
      "source": [
        "a = a.dropna(subset=['rating','episodes'])\n",
        "a"
      ],
      "execution_count": 66,
      "outputs": [
        {
          "output_type": "execute_result",
          "data": {
            "text/html": [
              "<div>\n",
              "<style scoped>\n",
              "    .dataframe tbody tr th:only-of-type {\n",
              "        vertical-align: middle;\n",
              "    }\n",
              "\n",
              "    .dataframe tbody tr th {\n",
              "        vertical-align: top;\n",
              "    }\n",
              "\n",
              "    .dataframe thead th {\n",
              "        text-align: right;\n",
              "    }\n",
              "</style>\n",
              "<table border=\"1\" class=\"dataframe\">\n",
              "  <thead>\n",
              "    <tr style=\"text-align: right;\">\n",
              "      <th></th>\n",
              "      <th>title</th>\n",
              "      <th>episodes</th>\n",
              "      <th>rating</th>\n",
              "      <th>isAdult</th>\n",
              "      <th>type</th>\n",
              "    </tr>\n",
              "  </thead>\n",
              "  <tbody>\n",
              "    <tr>\n",
              "      <th>0</th>\n",
              "      <td>Lucifer</td>\n",
              "      <td>93.0</td>\n",
              "      <td>8.1</td>\n",
              "      <td>0</td>\n",
              "      <td>tvSeries</td>\n",
              "    </tr>\n",
              "    <tr>\n",
              "      <th>2</th>\n",
              "      <td>The Kominsky Method</td>\n",
              "      <td>22.0</td>\n",
              "      <td>8.2</td>\n",
              "      <td>0</td>\n",
              "      <td>tvSeries</td>\n",
              "    </tr>\n",
              "    <tr>\n",
              "      <th>3</th>\n",
              "      <td>Friends</td>\n",
              "      <td>235.0</td>\n",
              "      <td>8.9</td>\n",
              "      <td>0</td>\n",
              "      <td>tvSeries</td>\n",
              "    </tr>\n",
              "    <tr>\n",
              "      <th>4</th>\n",
              "      <td>Ragnarok</td>\n",
              "      <td>12.0</td>\n",
              "      <td>7.5</td>\n",
              "      <td>0</td>\n",
              "      <td>tvSeries</td>\n",
              "    </tr>\n",
              "    <tr>\n",
              "      <th>5</th>\n",
              "      <td>StartUp</td>\n",
              "      <td>30.0</td>\n",
              "      <td>8.0</td>\n",
              "      <td>0</td>\n",
              "      <td>tvSeries</td>\n",
              "    </tr>\n",
              "    <tr>\n",
              "      <th>...</th>\n",
              "      <td>...</td>\n",
              "      <td>...</td>\n",
              "      <td>...</td>\n",
              "      <td>...</td>\n",
              "      <td>...</td>\n",
              "    </tr>\n",
              "    <tr>\n",
              "      <th>5984</th>\n",
              "      <td>Girls Who Like Boys Who Like Boys</td>\n",
              "      <td>8.0</td>\n",
              "      <td>6.5</td>\n",
              "      <td>0</td>\n",
              "      <td>tvSeries</td>\n",
              "    </tr>\n",
              "    <tr>\n",
              "      <th>6064</th>\n",
              "      <td>Don Quijote de la Láctea</td>\n",
              "      <td>13.0</td>\n",
              "      <td>7.8</td>\n",
              "      <td>0</td>\n",
              "      <td>tvSeries</td>\n",
              "    </tr>\n",
              "    <tr>\n",
              "      <th>6071</th>\n",
              "      <td>Strongland</td>\n",
              "      <td>3.0</td>\n",
              "      <td>7.0</td>\n",
              "      <td>0</td>\n",
              "      <td>tvSeries</td>\n",
              "    </tr>\n",
              "    <tr>\n",
              "      <th>6098</th>\n",
              "      <td>Life in Our Universe</td>\n",
              "      <td>6.0</td>\n",
              "      <td>7.7</td>\n",
              "      <td>0</td>\n",
              "      <td>tvSeries</td>\n",
              "    </tr>\n",
              "    <tr>\n",
              "      <th>6157</th>\n",
              "      <td>A Toca</td>\n",
              "      <td>3.0</td>\n",
              "      <td>4.1</td>\n",
              "      <td>0</td>\n",
              "      <td>tvSeries</td>\n",
              "    </tr>\n",
              "  </tbody>\n",
              "</table>\n",
              "<p>2131 rows × 5 columns</p>\n",
              "</div>"
            ],
            "text/plain": [
              "                                  title  episodes  rating  isAdult      type\n",
              "0                               Lucifer      93.0     8.1        0  tvSeries\n",
              "2                   The Kominsky Method      22.0     8.2        0  tvSeries\n",
              "3                               Friends     235.0     8.9        0  tvSeries\n",
              "4                              Ragnarok      12.0     7.5        0  tvSeries\n",
              "5                               StartUp      30.0     8.0        0  tvSeries\n",
              "...                                 ...       ...     ...      ...       ...\n",
              "5984  Girls Who Like Boys Who Like Boys       8.0     6.5        0  tvSeries\n",
              "6064           Don Quijote de la Láctea      13.0     7.8        0  tvSeries\n",
              "6071                         Strongland       3.0     7.0        0  tvSeries\n",
              "6098               Life in Our Universe       6.0     7.7        0  tvSeries\n",
              "6157                             A Toca       3.0     4.1        0  tvSeries\n",
              "\n",
              "[2131 rows x 5 columns]"
            ]
          },
          "metadata": {
            "tags": []
          },
          "execution_count": 66
        }
      ]
    },
    {
      "cell_type": "markdown",
      "metadata": {
        "id": "wYZL2VFVvJqV"
      },
      "source": [
        "Séries que possuem a classificação geral maior que **8** :"
      ]
    },
    {
      "cell_type": "code",
      "metadata": {
        "colab": {
          "base_uri": "https://localhost:8080/",
          "height": 232
        },
        "id": "ZhdGSLmKt_mF",
        "outputId": "6b7cfebb-91af-42cc-deac-256757a7d4e2"
      },
      "source": [
        "filtro = a['rating'] > 8.0\n",
        "notas_netflix = a[filtro]\n",
        "notas = notas_netflix.head()\n",
        "notas.set_index('title', inplace=True)\n",
        "notas"
      ],
      "execution_count": 109,
      "outputs": [
        {
          "output_type": "execute_result",
          "data": {
            "text/html": [
              "<div>\n",
              "<style scoped>\n",
              "    .dataframe tbody tr th:only-of-type {\n",
              "        vertical-align: middle;\n",
              "    }\n",
              "\n",
              "    .dataframe tbody tr th {\n",
              "        vertical-align: top;\n",
              "    }\n",
              "\n",
              "    .dataframe thead th {\n",
              "        text-align: right;\n",
              "    }\n",
              "</style>\n",
              "<table border=\"1\" class=\"dataframe\">\n",
              "  <thead>\n",
              "    <tr style=\"text-align: right;\">\n",
              "      <th></th>\n",
              "      <th>episodes</th>\n",
              "      <th>rating</th>\n",
              "      <th>isAdult</th>\n",
              "      <th>type</th>\n",
              "    </tr>\n",
              "    <tr>\n",
              "      <th>title</th>\n",
              "      <th></th>\n",
              "      <th></th>\n",
              "      <th></th>\n",
              "      <th></th>\n",
              "    </tr>\n",
              "  </thead>\n",
              "  <tbody>\n",
              "    <tr>\n",
              "      <th>Lucifer</th>\n",
              "      <td>93.0</td>\n",
              "      <td>8.1</td>\n",
              "      <td>0</td>\n",
              "      <td>tvSeries</td>\n",
              "    </tr>\n",
              "    <tr>\n",
              "      <th>The Kominsky Method</th>\n",
              "      <td>22.0</td>\n",
              "      <td>8.2</td>\n",
              "      <td>0</td>\n",
              "      <td>tvSeries</td>\n",
              "    </tr>\n",
              "    <tr>\n",
              "      <th>Friends</th>\n",
              "      <td>235.0</td>\n",
              "      <td>8.9</td>\n",
              "      <td>0</td>\n",
              "      <td>tvSeries</td>\n",
              "    </tr>\n",
              "    <tr>\n",
              "      <th>Sweet Tooth</th>\n",
              "      <td>8.0</td>\n",
              "      <td>8.2</td>\n",
              "      <td>0</td>\n",
              "      <td>tvSeries</td>\n",
              "    </tr>\n",
              "    <tr>\n",
              "      <th>The Walking Dead</th>\n",
              "      <td>177.0</td>\n",
              "      <td>8.2</td>\n",
              "      <td>0</td>\n",
              "      <td>tvSeries</td>\n",
              "    </tr>\n",
              "  </tbody>\n",
              "</table>\n",
              "</div>"
            ],
            "text/plain": [
              "                     episodes  rating  isAdult      type\n",
              "title                                                   \n",
              "Lucifer                  93.0     8.1        0  tvSeries\n",
              "The Kominsky Method      22.0     8.2        0  tvSeries\n",
              "Friends                 235.0     8.9        0  tvSeries\n",
              "Sweet Tooth               8.0     8.2        0  tvSeries\n",
              "The Walking Dead        177.0     8.2        0  tvSeries"
            ]
          },
          "metadata": {
            "tags": []
          },
          "execution_count": 109
        }
      ]
    },
    {
      "cell_type": "code",
      "metadata": {
        "colab": {
          "base_uri": "https://localhost:8080/"
        },
        "id": "bMhgUvQOoRGv",
        "outputId": "bd15a7ed-f328-4231-bbd5-690d4f869a49"
      },
      "source": [
        "a.groupby(by='type').size()"
      ],
      "execution_count": 76,
      "outputs": [
        {
          "output_type": "execute_result",
          "data": {
            "text/plain": [
              "type\n",
              "movie              1\n",
              "tvMiniSeries     273\n",
              "tvSeries        1857\n",
              "dtype: int64"
            ]
          },
          "metadata": {
            "tags": []
          },
          "execution_count": 76
        }
      ]
    },
    {
      "cell_type": "code",
      "metadata": {
        "colab": {
          "base_uri": "https://localhost:8080/",
          "height": 303
        },
        "id": "W_rIfQeyvomK",
        "outputId": "cc4a6c54-d241-44cc-e632-7b75d1a57719"
      },
      "source": [
        "plt.subplot()\n",
        "plt.title('episodes',fontsize = 20)\n",
        "notas['episodes'].plot.barh()\n"
      ],
      "execution_count": 111,
      "outputs": [
        {
          "output_type": "execute_result",
          "data": {
            "text/plain": [
              "<matplotlib.axes._subplots.AxesSubplot at 0x7fa970f32a50>"
            ]
          },
          "metadata": {
            "tags": []
          },
          "execution_count": 111
        },
        {
          "output_type": "display_data",
          "data": {
            "image/png": "[encoded data removed]",
            "text/plain": [
              "<Figure size 432x288 with 1 Axes>"
            ]
          },
          "metadata": {
            "tags": [],
            "needs_background": "light"
          }
        }
      ]
    },
    {
      "cell_type": "markdown",
      "metadata": {
        "id": "tTDj9Qgiy_qL"
      },
      "source": [
        "O gráfico mostra que a série **Friends** é um dos grandes sucessos de streaming, visto que é uma série que vem ganhando visibilidade ao longo do tempo, sua coletanea de episódios passa da casa dos 200, o mesmo se aplica a **The Walking Dead** uma famosa série sobre zumbis, faz sucesso entre os jovens e adolescentes por ser tratar de uma série de ação."
      ]
    },
    {
      "cell_type": "code",
      "metadata": {
        "colab": {
          "base_uri": "https://localhost:8080/",
          "height": 303
        },
        "id": "UiIROdUX1SmM",
        "outputId": "64e47974-30ae-4cd7-aa15-44d121f23b2a"
      },
      "source": [
        "plt.subplot()\n",
        "plt.title('Classificação',fontsize = 20)\n",
        "notas['rating'].plot.barh()"
      ],
      "execution_count": 112,
      "outputs": [
        {
          "output_type": "execute_result",
          "data": {
            "text/plain": [
              "<matplotlib.axes._subplots.AxesSubplot at 0x7fa970e99450>"
            ]
          },
          "metadata": {
            "tags": []
          },
          "execution_count": 112
        },
        {
          "output_type": "display_data",
          "data": {
            "image/png": "[encoded data removed]",
            "text/plain": [
              "<Figure size 432x288 with 1 Axes>"
            ]
          },
          "metadata": {
            "tags": [],
            "needs_background": "light"
          }
        }
      ]
    },
    {
      "cell_type": "markdown",
      "metadata": {
        "id": "xJKmCU9_1YsD"
      },
      "source": [
        "Novamente entre as séries melhores classificadas, Friends destaca-se principalmente por se tratar de uma \"comédia romantica\" e ser um exemplo de ambiente social que as pessoas almejam."
      ]
    }
  ]
}