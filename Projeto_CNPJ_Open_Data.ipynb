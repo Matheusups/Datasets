{
  "nbformat": 4,
  "nbformat_minor": 0,
  "metadata": {
    "colab": {
      "provenance": [],
      "authorship_tag": "ABX9TyNBbFcrYILkTFxZXWUl+PZ2",
      "include_colab_link": true
    },
    "kernelspec": {
      "name": "python3",
      "display_name": "Python 3"
    },
    "language_info": {
      "name": "python"
    }
  },
  "cells": [
    {
      "cell_type": "markdown",
      "metadata": {
        "id": "view-in-github",
        "colab_type": "text"
      },
      "source": [
        "<a href=\"https://colab.research.google.com/github/Matheusups/Datasets/blob/main/Projeto_CNPJ_Open_Data.ipynb\" target=\"_parent\"><img src=\"https://colab.research.google.com/assets/colab-badge.svg\" alt=\"Open In Colab\"/></a>"
      ]
    },
    {
      "cell_type": "code",
      "execution_count": 1,
      "metadata": {
        "id": "aSmNUxz9xwTa"
      },
      "outputs": [],
      "source": [
        "# Instalando/atualizando as dependências\n",
        "!apt-get update -qq\n",
        "!apt-get install openjdk-8-jdk-headless -qq > /dev/null\n",
        "!wget -q https://archive.apache.org/dist/spark/spark-3.1.2/spark-3.1.2-bin-hadoop2.7.tgz\n",
        "!tar xf spark-3.1.2-bin-hadoop2.7.tgz\n",
        "!pip install -q findspark"
      ]
    },
    {
      "cell_type": "code",
      "source": [
        "import os\n",
        "os.environ[\"JAVA_HOME\"] = \"/usr/lib/jvm/java-8-openjdk-amd64\"\n",
        "os.environ[\"SPARK_HOME\"] = \"/content/spark-3.1.2-bin-hadoop2.7\""
      ],
      "metadata": {
        "id": "7mwf_-nax4vu"
      },
      "execution_count": 2,
      "outputs": []
    },
    {
      "cell_type": "code",
      "source": [
        "import findspark\n",
        "findspark.init()"
      ],
      "metadata": {
        "id": "o1jDTr3Ax55M"
      },
      "execution_count": 3,
      "outputs": []
    },
    {
      "cell_type": "code",
      "source": [
        "from pyspark.sql import SparkSession\n",
        "import pyspark\n",
        "\n",
        "spark = SparkSession.builder \\\n",
        "    .master('local[*]') \\\n",
        "    .appName(\"Iniciando com Spark\") \\\n",
        "    .getOrCreate()\n",
        "\n",
        "spark"
      ],
      "metadata": {
        "colab": {
          "base_uri": "https://localhost:8080/",
          "height": 219
        },
        "id": "IzSccPsqyBrS",
        "outputId": "e98b1c45-1f11-42b3-9596-5a603ba012ab"
      },
      "execution_count": 4,
      "outputs": [
        {
          "output_type": "execute_result",
          "data": {
            "text/plain": [
              "<pyspark.sql.session.SparkSession at 0x7f2f2827ab90>"
            ],
            "text/html": [
              "\n",
              "            <div>\n",
              "                <p><b>SparkSession - in-memory</b></p>\n",
              "                \n",
              "        <div>\n",
              "            <p><b>SparkContext</b></p>\n",
              "\n",
              "            <p><a href=\"http://372cdc0b8eab:4040\">Spark UI</a></p>\n",
              "\n",
              "            <dl>\n",
              "              <dt>Version</dt>\n",
              "                <dd><code>v3.1.2</code></dd>\n",
              "              <dt>Master</dt>\n",
              "                <dd><code>local[*]</code></dd>\n",
              "              <dt>AppName</dt>\n",
              "                <dd><code>Iniciando com Spark</code></dd>\n",
              "            </dl>\n",
              "        </div>\n",
              "        \n",
              "            </div>\n",
              "        "
            ]
          },
          "metadata": {},
          "execution_count": 4
        }
      ]
    },
    {
      "cell_type": "code",
      "source": [
        "from google.colab import drive\n",
        "drive.mount('/content/drive')"
      ],
      "metadata": {
        "colab": {
          "base_uri": "https://localhost:8080/"
        },
        "id": "vka1jVR3yFpq",
        "outputId": "b3cdca73-f79a-4b7f-de71-2f72f3b29d85"
      },
      "execution_count": 5,
      "outputs": [
        {
          "output_type": "stream",
          "name": "stdout",
          "text": [
            "Mounted at /content/drive\n"
          ]
        }
      ]
    },
    {
      "cell_type": "markdown",
      "source": [
        "## Criação de Diretórios para os dados particionados:\n",
        "- Empresas\n",
        "- Estabelecimentos\n",
        "- Socios"
      ],
      "metadata": {
        "id": "R9QggONJ0yUH"
      }
    },
    {
      "cell_type": "code",
      "source": [
        "import zipfile\n",
        "zipfile.ZipFile('/content/drive/MyDrive/curso-spark/empresas/empresas.zip','r').extractall('/content/drive/MyDrive/curso-spark/empresas')"
      ],
      "metadata": {
        "id": "e6QFE0-PykhK"
      },
      "execution_count": 6,
      "outputs": []
    },
    {
      "cell_type": "code",
      "source": [
        "zipfile.ZipFile('/content/drive/MyDrive/curso-spark/estabelecimentos/estabelecimentos.zip','r').extractall('/content/drive/MyDrive/curso-spark/estabelecimentos')"
      ],
      "metadata": {
        "id": "L3Zm-uoC1FFN"
      },
      "execution_count": 7,
      "outputs": []
    },
    {
      "cell_type": "code",
      "source": [
        "zipfile.ZipFile('/content/drive/MyDrive/curso-spark/socios/socios.zip','r').extractall('/content/drive/MyDrive/curso-spark/socios')"
      ],
      "metadata": {
        "id": "bYbDEwoG1FYA"
      },
      "execution_count": 8,
      "outputs": []
    },
    {
      "cell_type": "markdown",
      "source": [
        "### Leitura dos dados particionados em dataframes\n",
        "\n",
        "- Criação de listas para definir o nome das colunas de cada dataframe de acordo com o dicionario dos dados públicos no site do governo.\n",
        "- Definição de option para delimitador e para definição de schema.\n",
        "- Criação dos respectivos dataframes já configurados de acordo com as escpeficidades"
      ],
      "metadata": {
        "id": "F1-jW7WK2W0L"
      }
    },
    {
      "cell_type": "code",
      "source": [
        "colunas_socios = ['cnpj_basico', 'identificador_de_socio', 'nome_do_socio_ou_razao_social', 'cnpj_ou_cpf_do_socio', 'qualificacao_do_socio', 'data_de_entrada_sociedade', 'pais', 'representante_legal', 'nome_do_representante', 'qualificacao_do_representante_legal', 'faixa_etaria']\n",
        "df_socios = spark.read.format('csv')\\\n",
        "                  .option(\"delimiter\",';')\\\n",
        "                  .option(\"inferSchema\",True)\\\n",
        "                  .load('/content/drive/MyDrive/curso-spark/socios/socios').toDF(*colunas_socios)\n",
        "\n",
        "colunas_estab = ['cnpj_basico', 'cnpj_ordem', 'cnpj_dv', 'identificador_matriz_filial', 'nome_fantasia', 'situacao_cadastral', 'data_situacao_cadastral', 'motivo_situacao_cadastral', 'nome_da_cidade_no_exterior', 'pais', 'data_de_inicio_atividade', 'cnae_fiscal_principal', 'cnae_fiscal_secundaria', 'tipo_de_logradouro', 'logradouro', 'numero', 'complemento', 'bairro', 'cep', 'uf', 'municipio', 'ddd_1', 'telefone_1', 'ddd_2', 'telefone_2', 'ddd_do_fax', 'fax', 'correio_eletronico', 'situacao_especial', 'data_da_situacao_especial']\n",
        "df_estabelecimentos = spark.read.format('csv')\\\n",
        "                  .option(\"delimiter\",';')\\\n",
        "                  .option(\"inferSchema\",True)\\\n",
        "                  .load('/content/drive/MyDrive/curso-spark/estabelecimentos/estabelecimentos').toDF(*colunas_estab)\n",
        "\n",
        "col_empresas = ['cnpj_basico', 'razao_social_nome_empresarial', 'natureza_juridica', 'qualificacao_do_responsavel', 'capital_social_da_empresa', 'porte_da_empresa', 'ente_federativo_responsavel']\n",
        "df_empresas = spark.read.format('csv')\\\n",
        "                  .option(\"delimiter\",';')\\\n",
        "                  .option(\"inferSchema\",True)\\\n",
        "                  .load('/content/drive/MyDrive/curso-spark/empresas/empresas').toDF(*col_empresas)"
      ],
      "metadata": {
        "id": "LVIdoRHM2hp8"
      },
      "execution_count": 41,
      "outputs": []
    },
    {
      "cell_type": "markdown",
      "source": [
        "## Explorando os dataframes\n",
        "\n",
        "1. Verificar se os tipos de dados estão adequados para que possamos prosseguir com as operações.\n",
        "2. Caso estejam fora dos padrões ou do esperado, iremos tratar esses campos (colunas)."
      ],
      "metadata": {
        "id": "rpiDaDFIEarJ"
      }
    },
    {
      "cell_type": "code",
      "source": [
        "from pyspark.sql.functions import *"
      ],
      "metadata": {
        "id": "O0MiYEHGIJlq"
      },
      "execution_count": 42,
      "outputs": []
    },
    {
      "cell_type": "code",
      "source": [
        "#df_empresas.limit(5).toPandas()\n",
        "\n",
        "# Transformação da coluna [capital_social_da_empresa] para float, o spark reconheceu como string pois o separador decimal dele é o .\n",
        "df_empresas = df_empresas.withColumn(\"capital_social_da_empresa\", regexp_replace(col('capital_social_da_empresa'),'[,]','.').cast('double'))\n",
        "df_empresas.printSchema()"
      ],
      "metadata": {
        "colab": {
          "base_uri": "https://localhost:8080/"
        },
        "id": "E22y3A723TMG",
        "outputId": "e8797dbc-c8f6-4794-f743-5bcd55132613"
      },
      "execution_count": 43,
      "outputs": [
        {
          "output_type": "stream",
          "name": "stdout",
          "text": [
            "root\n",
            " |-- cnpj_basico: integer (nullable = true)\n",
            " |-- razao_social_nome_empresarial: string (nullable = true)\n",
            " |-- natureza_juridica: integer (nullable = true)\n",
            " |-- qualificacao_do_responsavel: integer (nullable = true)\n",
            " |-- capital_social_da_empresa: double (nullable = true)\n",
            " |-- porte_da_empresa: integer (nullable = true)\n",
            " |-- ente_federativo_responsavel: string (nullable = true)\n",
            "\n"
          ]
        }
      ]
    },
    {
      "cell_type": "code",
      "source": [
        "# Transformação das colunas de data\n",
        "df_estabelecimentos = df_estabelecimentos\\\n",
        "      .withColumn('data_situacao_cadastral', to_date(col('data_situacao_cadastral').cast('string'),'yyyyMMdd'))\\\n",
        "      .withColumn('data_de_inicio_atividade', to_date(col('data_de_inicio_atividade').cast('string'),'yyyyMMdd'))\\\n",
        "      .withColumn('data_da_situacao_especial', to_date(col('data_da_situacao_especial').cast('string'),'yyyyMMdd'))\n",
        "\n",
        "#df_estabelecimentos.printSchema()\n",
        "df_estabelecimentos.show(5)"
      ],
      "metadata": {
        "colab": {
          "base_uri": "https://localhost:8080/"
        },
        "id": "w7IJsPQpF6IN",
        "outputId": "1a0d5539-ad27-4dc3-e515-312967bb9c74"
      },
      "execution_count": 45,
      "outputs": [
        {
          "output_type": "stream",
          "name": "stdout",
          "text": [
            "+-----------+----------+-------+---------------------------+-----------------+------------------+-----------------------+-------------------------+--------------------------+----+------------------------+---------------------+----------------------+------------------+--------------------+------+-----------+------------------+-------+---+---------+-----+----------+-----+----------+----------+----+------------------+-----------------+-------------------------+\n",
            "|cnpj_basico|cnpj_ordem|cnpj_dv|identificador_matriz_filial|    nome_fantasia|situacao_cadastral|data_situacao_cadastral|motivo_situacao_cadastral|nome_da_cidade_no_exterior|pais|data_de_inicio_atividade|cnae_fiscal_principal|cnae_fiscal_secundaria|tipo_de_logradouro|          logradouro|numero|complemento|            bairro|    cep| uf|municipio|ddd_1|telefone_1|ddd_2|telefone_2|ddd_do_fax| fax|correio_eletronico|situacao_especial|data_da_situacao_especial|\n",
            "+-----------+----------+-------+---------------------------+-----------------+------------------+-----------------------+-------------------------+--------------------------+----+------------------------+---------------------+----------------------+------------------+--------------------+------+-----------+------------------+-------+---+---------+-----+----------+-----+----------+----------+----+------------------+-----------------+-------------------------+\n",
            "|       1879|         1|     96|                          1|   PIRAMIDE M. C.|                 8|             2001-10-29|                        1|                      null|null|              1994-05-09|              1412602|                  null|               RUA|     JOSE FIGLIOLINI|   608|       null|         VILA NILO|2278020| SP|     7107| null|      null| null|      null|      null|null|              null|             null|                     null|\n",
            "|       2818|         1|     43|                          1|             null|                 8|             2008-12-31|                       71|                      null|null|              1994-05-12|              4671100|                  null|               RUA|              BAQUIA|   416|       null|VL NOVA MANCHESTER|3443000| SP|     7107| null|      null| null|      null|      null|null|              null|             null|                     null|\n",
            "|       3110|         1|      7|                          1|             null|                 8|             1997-12-31|                        1|                      null|null|              1994-05-12|              4789007|                  null|               RUA|     LEOCADIA CINTRA|   180|    CONJ 83|             MOOCA|3112040| SP|     7107| null|      null| null|      null|      null|null|              null|             null|                     null|\n",
            "|       3733|         1|     80|                          1|             null|                 8|             2008-12-31|                       71|                      null|null|              1994-05-13|              7490101|                  null|               RUA|        AFONSO CELSO|  1102|     CASA 1|      VILA MARIANA|4119061| SP|     7107| null|      null| null|      null|      null|null|              null|             null|                     null|\n",
            "|       4628|         3|     27|                          2|EMBROIDERY & GIFT|                 8|             1998-04-29|                        1|                      null|null|              1995-05-09|              4755501|                  null|               RUA|DOUTOR GABRIEL NI...|   177|       null|       RUDGE RAMOS|9632040| SP|     7075| null|      null| null|      null|      null|null|              null|             null|                     null|\n",
            "+-----------+----------+-------+---------------------------+-----------------+------------------+-----------------------+-------------------------+--------------------------+----+------------------------+---------------------+----------------------+------------------+--------------------+------+-----------+------------------+-------+---+---------+-----+----------+-----+----------+----------+----+------------------+-----------------+-------------------------+\n",
            "only showing top 5 rows\n",
            "\n"
          ]
        }
      ]
    },
    {
      "cell_type": "code",
      "source": [
        "# Tratamento do campo de data\n",
        "df_socios = df_socios\\\n",
        "      .withColumn('data_de_entrada_sociedade', to_date(col('data_de_entrada_sociedade').cast('string'),'yyyyMMdd'))\n",
        "df_socios.show(5)"
      ],
      "metadata": {
        "colab": {
          "base_uri": "https://localhost:8080/"
        },
        "id": "wdT4DvwHF6ZK",
        "outputId": "7c98d39f-c372-43d0-bab4-b70223f11347"
      },
      "execution_count": 46,
      "outputs": [
        {
          "output_type": "stream",
          "name": "stdout",
          "text": [
            "+-----------+----------------------+-----------------------------+--------------------+---------------------+-------------------------+----+-------------------+---------------------+-----------------------------------+------------+\n",
            "|cnpj_basico|identificador_de_socio|nome_do_socio_ou_razao_social|cnpj_ou_cpf_do_socio|qualificacao_do_socio|data_de_entrada_sociedade|pais|representante_legal|nome_do_representante|qualificacao_do_representante_legal|faixa_etaria|\n",
            "+-----------+----------------------+-----------------------------+--------------------+---------------------+-------------------------+----+-------------------+---------------------+-----------------------------------+------------+\n",
            "|        411|                     2|         LILIANA PATRICIA ...|         ***678188**|                   22|               1994-07-25|null|        ***000000**|                 null|                                  0|           7|\n",
            "|        411|                     2|         CRISTINA HUNDERTMARK|         ***637848**|                   28|               1994-07-25|null|        ***000000**|                 null|                                  0|           7|\n",
            "|       5813|                     2|         CELSO EDUARDO DE ...|         ***786068**|                   49|               1994-05-16|null|        ***000000**|                 null|                                  0|           8|\n",
            "|       5813|                     2|         EDUARDO BERRINGER...|         ***442348**|                   49|               1994-05-16|null|        ***000000**|                 null|                                  0|           5|\n",
            "|      14798|                     2|          HANNE MAHFOUD FADEL|         ***760388**|                   49|               1994-06-09|null|        ***000000**|                 null|                                  0|           8|\n",
            "+-----------+----------------------+-----------------------------+--------------------+---------------------+-------------------------+----+-------------------+---------------------+-----------------------------------+------------+\n",
            "only showing top 5 rows\n",
            "\n"
          ]
        }
      ]
    },
    {
      "cell_type": "markdown",
      "source": [
        "### Criando dataframes para dados especificos"
      ],
      "metadata": {
        "id": "moAmnvk-kjUa"
      }
    },
    {
      "cell_type": "code",
      "source": [
        "df_socios.select(\n",
        "    'nome_do_socio_ou_razao_social',\n",
        "    'faixa_etaria',\n",
        "    year('data_de_entrada_sociedade').alias('ano_entrada'),\n",
        "    (quarter('data_de_entrada_sociedade')).alias('trimestre_ano')\n",
        "    ).show(5)"
      ],
      "metadata": {
        "colab": {
          "base_uri": "https://localhost:8080/"
        },
        "id": "kIPTK5dgkfwg",
        "outputId": "2a36ddb2-df8e-4ce7-b472-70fda75fbde3"
      },
      "execution_count": 47,
      "outputs": [
        {
          "output_type": "stream",
          "name": "stdout",
          "text": [
            "+-----------------------------+------------+-----------+-------------+\n",
            "|nome_do_socio_ou_razao_social|faixa_etaria|ano_entrada|trimestre_ano|\n",
            "+-----------------------------+------------+-----------+-------------+\n",
            "|         LILIANA PATRICIA ...|           7|       1994|            3|\n",
            "|         CRISTINA HUNDERTMARK|           7|       1994|            3|\n",
            "|         CELSO EDUARDO DE ...|           8|       1994|            2|\n",
            "|         EDUARDO BERRINGER...|           5|       1994|            2|\n",
            "|          HANNE MAHFOUD FADEL|           8|       1994|            2|\n",
            "+-----------------------------+------------+-----------+-------------+\n",
            "only showing top 5 rows\n",
            "\n"
          ]
        }
      ]
    },
    {
      "cell_type": "markdown",
      "source": [
        "## Consulta\n",
        "\n",
        "Consulta para criar uma agregação de quantidade de empresas por ANO de incio das atividades e UF no ano de 2020 com situação ativa. De acordo com algumas pesquisa no site do governo o código 2 representa situação ativa para o cpnj."
      ],
      "metadata": {
        "id": "QPiwQ1LfpyRp"
      }
    },
    {
      "cell_type": "code",
      "source": [
        "df_rank = df_estabelecimentos.filter('situacao_cadastral = 2').select(\n",
        "    'nome_fantasia',\n",
        "    'uf',\n",
        "    'municipio',\n",
        "    'situacao_cadastral',\n",
        "    year('data_de_inicio_atividade').alias('ano_inicio_atividade')\n",
        ").groupby('ano_inicio_atividade','uf','situacao_cadastral').agg(count(col('nome_fantasia')).alias('contagem_de_empresas'))\\\n",
        "    .filter('ano_inicio_atividade=2020')\n",
        "\n",
        "df_rank.orderBy(col(\"contagem_de_empresas\").desc()).show(10)"
      ],
      "metadata": {
        "colab": {
          "base_uri": "https://localhost:8080/"
        },
        "id": "mVYLe87vmxrb",
        "outputId": "3d637fe5-9542-424e-c836-ae93b234f9b9"
      },
      "execution_count": 60,
      "outputs": [
        {
          "output_type": "stream",
          "name": "stdout",
          "text": [
            "+--------------------+---+------------------+--------------------+\n",
            "|ano_inicio_atividade| uf|situacao_cadastral|contagem_de_empresas|\n",
            "+--------------------+---+------------------+--------------------+\n",
            "|                2020| SP|                 2|               66447|\n",
            "|                2020| RJ|                 2|               26008|\n",
            "|                2020| MG|                 2|               24847|\n",
            "|                2020| PR|                 2|               15638|\n",
            "|                2020| RS|                 2|               13999|\n",
            "|                2020| BA|                 2|               12505|\n",
            "|                2020| SC|                 2|               12028|\n",
            "|                2020| GO|                 2|               10332|\n",
            "|                2020| PE|                 2|                7796|\n",
            "|                2020| CE|                 2|                7259|\n",
            "+--------------------+---+------------------+--------------------+\n",
            "only showing top 10 rows\n",
            "\n"
          ]
        }
      ]
    }
  ]
}